{
 "cells": [
  {
   "cell_type": "code",
   "execution_count": 1,
   "metadata": {},
   "outputs": [],
   "source": [
    "import bs4 as bs\n",
    "import re"
   ]
  },
  {
   "cell_type": "code",
   "execution_count": 7,
   "metadata": {},
   "outputs": [],
   "source": [
    "# read node-only svg\n",
    "with open(\"ipath_nodes_only.svg\") as fp:\n",
    "    soup1 = bs.BeautifulSoup(fp)\n",
    "ellipse_ls = soup1.find_all(\"ellipse\")\n",
    "\n",
    "# read whole-path svg\n",
    "with open(\"ipath_whole_module.svg\") as fp:\n",
    "    soup2 = bs.BeautifulSoup(fp)\n"
   ]
  },
  {
   "cell_type": "code",
   "execution_count": 34,
   "metadata": {},
   "outputs": [],
   "source": [
    "# grab (cx, cy) coords of flagged nodes from ipath-nodes-only.svg\n",
    "coords_ls = []\n",
    "\n",
    "pattern_cx = re.compile(r'cx=\"[\\s\\S]*?\" cy=')\n",
    "pattern_cy = re.compile(r'cy=\"[\\s\\S]*?\" fill=')\n",
    "\n",
    "for ln in soup1.find_all(\"ellipse\"):\n",
    "    ln_str = str(ln)\n",
    "    if 'fill=\"#ff0000' in ln_str:\n",
    "        cx = ln.get(\"cx\")\n",
    "        cy = ln.get(\"cy\")\n",
    "        coords_ls.append([cx, cy])\n",
    "        \n",
    "\n",
    "# Identify nodes in ipath_whole_module.svg\n",
    "#ellipse_ls = soup2.find_all(\"ellipse\")\n",
    "#for ln in ellipse_ls:\n",
    "#    ln_str = str(ln)\n",
    "    "
   ]
  },
  {
   "cell_type": "code",
   "execution_count": 35,
   "metadata": {},
   "outputs": [
    {
     "data": {
      "text/plain": [
       "[['2244.50', '1654.50'],\n",
       " ['2677.50', '1931.50'],\n",
       " ['2856.50', '988.50'],\n",
       " ['2030.50', '1509.50'],\n",
       " ['1824.50', '1829.50'],\n",
       " ['2286.50', '1209.50'],\n",
       " ['2140.50', '1551.50'],\n",
       " ['2481.50', '1209.50'],\n",
       " ['2481.50', '1295.50'],\n",
       " ['2454.50', '763.50'],\n",
       " ['2668.50', '818.50'],\n",
       " ['2646.50', '1645.50'],\n",
       " ['2592.50', '579.50'],\n",
       " ['3074.50', '1684.50'],\n",
       " ['2838.50', '1360.50'],\n",
       " ['2592.50', '1829.50'],\n",
       " ['2719.50', '1528.50'],\n",
       " ['1378.50', '1755.50'],\n",
       " ['2341.50', '1068.50'],\n",
       " ['3279.50', '1415.50'],\n",
       " ['2030.50', '1238.50'],\n",
       " ['1192.50', '1756.50'],\n",
       " ['2764.50', '1469.50']]"
      ]
     },
     "execution_count": 35,
     "metadata": {},
     "output_type": "execute_result"
    }
   ],
   "source": [
    "coords_ls"
   ]
  },
  {
   "cell_type": "code",
   "execution_count": null,
   "metadata": {},
   "outputs": [],
   "source": []
  }
 ],
 "metadata": {
  "kernelspec": {
   "display_name": "Python 3",
   "language": "python",
   "name": "python3"
  },
  "language_info": {
   "codemirror_mode": {
    "name": "ipython",
    "version": 3
   },
   "file_extension": ".py",
   "mimetype": "text/x-python",
   "name": "python",
   "nbconvert_exporter": "python",
   "pygments_lexer": "ipython3",
   "version": "3.7.3"
  }
 },
 "nbformat": 4,
 "nbformat_minor": 2
}
