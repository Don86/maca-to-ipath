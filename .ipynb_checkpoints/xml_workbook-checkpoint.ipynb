{
 "cells": [
  {
   "cell_type": "code",
   "execution_count": null,
   "metadata": {},
   "outputs": [],
   "source": [
    "import bs4 as bs\n",
    "import re\n",
    "import numpy as np\n",
    "#import xml.etree.ElementTree as ET"
   ]
  },
  {
   "cell_type": "code",
   "execution_count": null,
   "metadata": {},
   "outputs": [],
   "source": [
    "# read node-only svg\n",
    "with open(\"ipath_nodes_only.svg\") as fp:\n",
    "    soup1 = bs.BeautifulSoup(fp)\n",
    "ellipse_ls = soup1.find_all(\"ellipse\")\n",
    "\n",
    "# read whole-path svg\n",
    "with open(\"ipath_whole_module.svg\") as fp:\n",
    "    soup2 = bs.BeautifulSoup(fp)\n",
    "html_content = str(soup2.contents[2]).split(\"\\n\")"
   ]
  },
  {
   "cell_type": "code",
   "execution_count": null,
   "metadata": {},
   "outputs": [],
   "source": [
    "# grab (cx, cy) coords of flagged nodes from ipath-nodes-only.svg\n",
    "coords_ls = []\n",
    "\n",
    "for ln in soup1.find_all(\"ellipse\"):\n",
    "    ln_str = str(ln)\n",
    "    if 'fill=\"#ff0000' in ln_str:\n",
    "        cx = ln.get(\"cx\")\n",
    "        cy = ln.get(\"cy\")\n",
    "        coords_ls.append([cx, cy])\n",
    "coords_ls = np.array(coords_ls)\n",
    "\n",
    "pattern_cx = re.compile(r'cx=\"[\\s\\S]*?\" cy=')\n",
    "pattern_cy = re.compile(r'cy=\"[\\s\\S]*?\" fill=')\n",
    "pattern_path_stroke = re.compile(r'stroke=\"[\\s\\S]*?\"')\n",
    "# Parse and modify html_content as ls of strings\n",
    "for i in range(len(html_content)):\n",
    "    ln = html_content[i]\n",
    "    \n",
    "    # change node-size of red ellipses\n",
    "    \n",
    "    # change colour of significant ellipses\n",
    "    if ln[:8] == \"<ellipse\":\n",
    "        match_cx = re.findall(pattern_cx, ln)[0][4:][:-5]\n",
    "        match_cy = re.findall(pattern_cy, ln)[0][4:][:-7]\n",
    "        if (match_cx in coords_ls[:,0]) and (match_cy in coords_ls[:,1]):\n",
    "            html_content[i] = html_content[i].replace(\"#ff0000\", \"#3345FF\")\n",
    "            html_content[i] = html_content[i].replace('rx=\"20\"', 'rx=\"40\"')\n",
    "            html_content[i] = html_content[i].replace('ry=\"20\"', 'ry=\"40\"')\n",
    "    \n",
    "    # decrease stroke-width of red paths\n",
    "    if ln[:5] == \"<path\" and 'stroke=\"#ff0000\"' in ln:\n",
    "        html_content[i] = html_content[i].replace('stroke-width=\"20\"', 'stroke-width=\"10\"')\n",
    "    \n",
    "    "
   ]
  },
  {
   "cell_type": "code",
   "execution_count": null,
   "metadata": {},
   "outputs": [],
   "source": [
    "with open(\"test.html\", \"w\") as f:\n",
    "    for line in html_content:\n",
    "        f.write(\"%s\\n\" % line)"
   ]
  },
  {
   "cell_type": "code",
   "execution_count": null,
   "metadata": {},
   "outputs": [],
   "source": [
    "coords_ls[:,0]"
   ]
  },
  {
   "cell_type": "code",
   "execution_count": null,
   "metadata": {},
   "outputs": [],
   "source": [
    "coords_ls"
   ]
  },
  {
   "cell_type": "code",
   "execution_count": null,
   "metadata": {},
   "outputs": [],
   "source": []
  }
 ],
 "metadata": {
  "kernelspec": {
   "display_name": "Python 3",
   "language": "python",
   "name": "python3"
  },
  "language_info": {
   "codemirror_mode": {
    "name": "ipython",
    "version": 3
   },
   "file_extension": ".py",
   "mimetype": "text/x-python",
   "name": "python",
   "nbconvert_exporter": "python",
   "pygments_lexer": "ipython3",
   "version": "3.7.3"
  }
 },
 "nbformat": 4,
 "nbformat_minor": 2
}
